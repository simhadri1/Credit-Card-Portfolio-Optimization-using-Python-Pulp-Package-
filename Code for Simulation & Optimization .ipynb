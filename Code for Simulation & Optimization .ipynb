{
 "cells": [
  {
   "cell_type": "code",
   "execution_count": 295,
   "id": "a280d313-f392-459a-abe2-39bd8994446e",
   "metadata": {},
   "outputs": [],
   "source": [
    "import scipy as sp\n",
    "import numpy as np\n",
    "import pandas as pd\n",
    "import seaborn as sns\n",
    "import matplotlib.pyplot as plt\n",
    "import random"
   ]
  },
  {
   "cell_type": "code",
   "execution_count": 296,
   "id": "904c7312-62fb-4f28-a30b-01ce4c8be3fa",
   "metadata": {},
   "outputs": [],
   "source": [
    "# Importing data analytics related libraries (DataFrame and Visualization)\n",
    "import pandas as pd\n",
    "import matplotlib.pyplot as plt\n",
    "from matplotlib import style\n",
    "\n",
    "# Adjusting the size of matplotlib\n",
    "import matplotlib as mpl\n",
    "mpl.rc('figure', figsize=(8, 7))\n",
    "mpl.__version__\n",
    "\n",
    "# Adjusting the style of matplotlib\n",
    "style.use('ggplot')\n",
    "\n",
    "# Magic to tell python notebook we want matplotlib charts included\n",
    "%matplotlib inline\n",
    "\n",
    "# importing pulp as an optimization solver\n",
    "from pulp import *\n",
    "import re "
   ]
  },
  {
   "cell_type": "code",
   "execution_count": 297,
   "id": "1464b1b0-8be7-45b4-8f8a-17d88dac5526",
   "metadata": {},
   "outputs": [],
   "source": [
    "max_accounts_to_simulate = 10\n",
    "\n",
    "credit_card_account_id = []\n",
    "for i in range(1000,1000+max_accounts_to_simulate ): #range start#, END# +1) \n",
    "  credit_card_account_id.append(i)"
   ]
  },
  {
   "cell_type": "code",
   "execution_count": 298,
   "id": "81bdec68-ea92-4d82-96b3-cd6974539914",
   "metadata": {},
   "outputs": [],
   "source": [
    "cc_account_limit = []\n",
    "for x in credit_card_account_id :\n",
    "    for y in np.around( np.random.uniform(low = 1, high = 250, size = 1) )*100 :\n",
    "        cc_account_limit.append ((x,y))"
   ]
  },
  {
   "cell_type": "code",
   "execution_count": 299,
   "id": "0e483a93-718b-4efa-b5dc-f9a459f837e0",
   "metadata": {},
   "outputs": [],
   "source": [
    "cc_account_spend_percent = []\n",
    "for x in credit_card_account_id :\n",
    "    for y in np.around( np.random.uniform(low = 1, high = 100, size = 1) ) :\n",
    "        cc_account_spend_percent.append ((x,y))"
   ]
  },
  {
   "cell_type": "code",
   "execution_count": 300,
   "id": "45c9f230-4c7c-4511-a6b5-ed5a4feed3bc",
   "metadata": {},
   "outputs": [],
   "source": [
    "cc_account_interest_rate_pct = []\n",
    "for x in credit_card_account_id :\n",
    "    for y in np.around( np.random.uniform(low = 20, high = 30, size = 1) ) :\n",
    "        cc_account_interest_rate_pct.append ((x,y))"
   ]
  },
  {
   "cell_type": "code",
   "execution_count": 301,
   "id": "333afff4-59d5-412f-81dc-df8cd2f7ec7f",
   "metadata": {},
   "outputs": [],
   "source": [
    "cc_account_prob_of_default = []\n",
    "for x in credit_card_account_id :\n",
    "    for y in np.around( np.random.uniform(low = 1, high = 5, size = 1) ) :\n",
    "        cc_account_prob_of_default.append ((x,y))"
   ]
  },
  {
   "cell_type": "code",
   "execution_count": 302,
   "id": "b89f3c54-f0e0-43f8-90cb-422eae50e4ad",
   "metadata": {},
   "outputs": [],
   "source": [
    "cc_account_limit_df = pd.DataFrame(cc_account_limit, columns =(\"account_id\",\"credit_limit\"))\n",
    "cc_account_spend_percent_df = pd.DataFrame(cc_account_spend_percent, columns =(\"account_id\",\"spend_percent\"))\n",
    "cc_account_interest_rate_pct_df = pd.DataFrame(cc_account_interest_rate_pct, columns =(\"account_id\",\"interest_rate_pct\"))\n",
    "cc_account_prob_of_default_df = pd.DataFrame(cc_account_prob_of_default, columns =(\"account_id\",\"prob_of_default\"))\n"
   ]
  },
  {
   "cell_type": "code",
   "execution_count": 303,
   "id": "769d2abf-3aee-4240-b513-add3c7920306",
   "metadata": {},
   "outputs": [],
   "source": [
    "import functools as ft\n",
    "dfs = [cc_account_limit_df, cc_account_spend_percent_df, cc_account_interest_rate_pct_df , cc_account_prob_of_default_df]\n",
    "df  = ft.reduce(lambda left, right: pd.merge(left, right, on='account_id'), dfs)"
   ]
  },
  {
   "cell_type": "code",
   "execution_count": 304,
   "id": "16eb18c0-fd78-4f6e-8a3b-846395b89796",
   "metadata": {},
   "outputs": [],
   "source": [
    "df[\"revolving_spend\"] = ( df[\"credit_limit\"] * df[\"spend_percent\"] ) / 100 # how much of the credit limit is spent "
   ]
  },
  {
   "cell_type": "code",
   "execution_count": 305,
   "id": "917628e9-34a9-48a8-8557-fe21a72d2442",
   "metadata": {},
   "outputs": [],
   "source": [
    "df[\"fee_revenue\"] =   round (df[\"revolving_spend\"] * 0.01 *12 )  # 1 pct Fee as a percent of revolving spend for 12 months"
   ]
  },
  {
   "cell_type": "code",
   "execution_count": 306,
   "id": "dffcabfb-3c52-41c5-8d92-c337a069872e",
   "metadata": {},
   "outputs": [],
   "source": [
    "df[\"interest_revenue\"] = round (( df[\"revolving_spend\"] * df[\"interest_rate_pct\"] ) / ( 100 ))   # Annual interest revenue for revolving spend"
   ]
  },
  {
   "cell_type": "code",
   "execution_count": 307,
   "id": "70788e9d-365e-4329-acb7-552a52aad910",
   "metadata": {},
   "outputs": [],
   "source": [
    "df[\"total_revenue\"] = df[\"fee_revenue\"] + df[\"interest_revenue\"] "
   ]
  },
  {
   "cell_type": "code",
   "execution_count": 308,
   "id": "b26d191d-f7e6-4ecd-b4da-5bad925e219d",
   "metadata": {},
   "outputs": [],
   "source": [
    "df[\"loss_given_default\"] = round (df[\"revolving_spend\"] * df[\"prob_of_default\"] / 100 ) "
   ]
  },
  {
   "cell_type": "code",
   "execution_count": 309,
   "id": "9c07182d-6494-4b23-a976-9e4ab7f1c55d",
   "metadata": {},
   "outputs": [],
   "source": [
    "df[\"Net_Profit_Before_Opti\"] = df[\"total_revenue\"]-df[\"loss_given_default\"]"
   ]
  },
  {
   "cell_type": "code",
   "execution_count": 310,
   "id": "13fbb634-3de4-4436-bf1d-1d5fc8e00e95",
   "metadata": {},
   "outputs": [],
   "source": [
    "df[\"min_credit_limit\"] = df[\"credit_limit\"] # assuming minimum limit is same as current limit\n",
    "df[\"max_credit_limit\"] = np.where(df[\"credit_limit\"]* 1.2 > 25000, 25000,df[\"credit_limit\"]* 1.2    )# assuming max limit is not more than 20% of current limit andor not more than 25K"
   ]
  },
  {
   "cell_type": "code",
   "execution_count": 311,
   "id": "e4a8a59e-af4c-44fc-9a3c-9a6eb09954fc",
   "metadata": {},
   "outputs": [
    {
     "data": {
      "text/html": [
       "<div>\n",
       "<style scoped>\n",
       "    .dataframe tbody tr th:only-of-type {\n",
       "        vertical-align: middle;\n",
       "    }\n",
       "\n",
       "    .dataframe tbody tr th {\n",
       "        vertical-align: top;\n",
       "    }\n",
       "\n",
       "    .dataframe thead th {\n",
       "        text-align: right;\n",
       "    }\n",
       "</style>\n",
       "<table border=\"1\" class=\"dataframe\">\n",
       "  <thead>\n",
       "    <tr style=\"text-align: right;\">\n",
       "      <th></th>\n",
       "      <th>account_id</th>\n",
       "      <th>credit_limit</th>\n",
       "      <th>spend_percent</th>\n",
       "      <th>interest_rate_pct</th>\n",
       "      <th>prob_of_default</th>\n",
       "      <th>revolving_spend</th>\n",
       "      <th>fee_revenue</th>\n",
       "      <th>interest_revenue</th>\n",
       "      <th>total_revenue</th>\n",
       "      <th>loss_given_default</th>\n",
       "      <th>Net_Profit_Before_Opti</th>\n",
       "      <th>min_credit_limit</th>\n",
       "      <th>max_credit_limit</th>\n",
       "    </tr>\n",
       "  </thead>\n",
       "  <tbody>\n",
       "    <tr>\n",
       "      <th>0</th>\n",
       "      <td>1000</td>\n",
       "      <td>24700.0</td>\n",
       "      <td>71.0</td>\n",
       "      <td>22.0</td>\n",
       "      <td>3.0</td>\n",
       "      <td>17537.0</td>\n",
       "      <td>2104.0</td>\n",
       "      <td>3858.0</td>\n",
       "      <td>5962.0</td>\n",
       "      <td>526.0</td>\n",
       "      <td>5436.0</td>\n",
       "      <td>24700.0</td>\n",
       "      <td>25000.0</td>\n",
       "    </tr>\n",
       "    <tr>\n",
       "      <th>1</th>\n",
       "      <td>1001</td>\n",
       "      <td>22400.0</td>\n",
       "      <td>31.0</td>\n",
       "      <td>27.0</td>\n",
       "      <td>1.0</td>\n",
       "      <td>6944.0</td>\n",
       "      <td>833.0</td>\n",
       "      <td>1875.0</td>\n",
       "      <td>2708.0</td>\n",
       "      <td>69.0</td>\n",
       "      <td>2639.0</td>\n",
       "      <td>22400.0</td>\n",
       "      <td>25000.0</td>\n",
       "    </tr>\n",
       "    <tr>\n",
       "      <th>2</th>\n",
       "      <td>1002</td>\n",
       "      <td>7300.0</td>\n",
       "      <td>24.0</td>\n",
       "      <td>23.0</td>\n",
       "      <td>3.0</td>\n",
       "      <td>1752.0</td>\n",
       "      <td>210.0</td>\n",
       "      <td>403.0</td>\n",
       "      <td>613.0</td>\n",
       "      <td>53.0</td>\n",
       "      <td>560.0</td>\n",
       "      <td>7300.0</td>\n",
       "      <td>8760.0</td>\n",
       "    </tr>\n",
       "    <tr>\n",
       "      <th>3</th>\n",
       "      <td>1003</td>\n",
       "      <td>7600.0</td>\n",
       "      <td>91.0</td>\n",
       "      <td>21.0</td>\n",
       "      <td>5.0</td>\n",
       "      <td>6916.0</td>\n",
       "      <td>830.0</td>\n",
       "      <td>1452.0</td>\n",
       "      <td>2282.0</td>\n",
       "      <td>346.0</td>\n",
       "      <td>1936.0</td>\n",
       "      <td>7600.0</td>\n",
       "      <td>9120.0</td>\n",
       "    </tr>\n",
       "    <tr>\n",
       "      <th>4</th>\n",
       "      <td>1004</td>\n",
       "      <td>14000.0</td>\n",
       "      <td>55.0</td>\n",
       "      <td>23.0</td>\n",
       "      <td>2.0</td>\n",
       "      <td>7700.0</td>\n",
       "      <td>924.0</td>\n",
       "      <td>1771.0</td>\n",
       "      <td>2695.0</td>\n",
       "      <td>154.0</td>\n",
       "      <td>2541.0</td>\n",
       "      <td>14000.0</td>\n",
       "      <td>16800.0</td>\n",
       "    </tr>\n",
       "    <tr>\n",
       "      <th>5</th>\n",
       "      <td>1005</td>\n",
       "      <td>13600.0</td>\n",
       "      <td>71.0</td>\n",
       "      <td>26.0</td>\n",
       "      <td>3.0</td>\n",
       "      <td>9656.0</td>\n",
       "      <td>1159.0</td>\n",
       "      <td>2511.0</td>\n",
       "      <td>3670.0</td>\n",
       "      <td>290.0</td>\n",
       "      <td>3380.0</td>\n",
       "      <td>13600.0</td>\n",
       "      <td>16320.0</td>\n",
       "    </tr>\n",
       "    <tr>\n",
       "      <th>6</th>\n",
       "      <td>1006</td>\n",
       "      <td>16800.0</td>\n",
       "      <td>56.0</td>\n",
       "      <td>21.0</td>\n",
       "      <td>2.0</td>\n",
       "      <td>9408.0</td>\n",
       "      <td>1129.0</td>\n",
       "      <td>1976.0</td>\n",
       "      <td>3105.0</td>\n",
       "      <td>188.0</td>\n",
       "      <td>2917.0</td>\n",
       "      <td>16800.0</td>\n",
       "      <td>20160.0</td>\n",
       "    </tr>\n",
       "    <tr>\n",
       "      <th>7</th>\n",
       "      <td>1007</td>\n",
       "      <td>5600.0</td>\n",
       "      <td>14.0</td>\n",
       "      <td>29.0</td>\n",
       "      <td>4.0</td>\n",
       "      <td>784.0</td>\n",
       "      <td>94.0</td>\n",
       "      <td>227.0</td>\n",
       "      <td>321.0</td>\n",
       "      <td>31.0</td>\n",
       "      <td>290.0</td>\n",
       "      <td>5600.0</td>\n",
       "      <td>6720.0</td>\n",
       "    </tr>\n",
       "    <tr>\n",
       "      <th>8</th>\n",
       "      <td>1008</td>\n",
       "      <td>12300.0</td>\n",
       "      <td>33.0</td>\n",
       "      <td>27.0</td>\n",
       "      <td>1.0</td>\n",
       "      <td>4059.0</td>\n",
       "      <td>487.0</td>\n",
       "      <td>1096.0</td>\n",
       "      <td>1583.0</td>\n",
       "      <td>41.0</td>\n",
       "      <td>1542.0</td>\n",
       "      <td>12300.0</td>\n",
       "      <td>14760.0</td>\n",
       "    </tr>\n",
       "    <tr>\n",
       "      <th>9</th>\n",
       "      <td>1009</td>\n",
       "      <td>20400.0</td>\n",
       "      <td>69.0</td>\n",
       "      <td>23.0</td>\n",
       "      <td>5.0</td>\n",
       "      <td>14076.0</td>\n",
       "      <td>1689.0</td>\n",
       "      <td>3237.0</td>\n",
       "      <td>4926.0</td>\n",
       "      <td>704.0</td>\n",
       "      <td>4222.0</td>\n",
       "      <td>20400.0</td>\n",
       "      <td>24480.0</td>\n",
       "    </tr>\n",
       "  </tbody>\n",
       "</table>\n",
       "</div>"
      ],
      "text/plain": [
       "   account_id  credit_limit  spend_percent  interest_rate_pct  \\\n",
       "0        1000       24700.0           71.0               22.0   \n",
       "1        1001       22400.0           31.0               27.0   \n",
       "2        1002        7300.0           24.0               23.0   \n",
       "3        1003        7600.0           91.0               21.0   \n",
       "4        1004       14000.0           55.0               23.0   \n",
       "5        1005       13600.0           71.0               26.0   \n",
       "6        1006       16800.0           56.0               21.0   \n",
       "7        1007        5600.0           14.0               29.0   \n",
       "8        1008       12300.0           33.0               27.0   \n",
       "9        1009       20400.0           69.0               23.0   \n",
       "\n",
       "   prob_of_default  revolving_spend  fee_revenue  interest_revenue  \\\n",
       "0              3.0          17537.0       2104.0            3858.0   \n",
       "1              1.0           6944.0        833.0            1875.0   \n",
       "2              3.0           1752.0        210.0             403.0   \n",
       "3              5.0           6916.0        830.0            1452.0   \n",
       "4              2.0           7700.0        924.0            1771.0   \n",
       "5              3.0           9656.0       1159.0            2511.0   \n",
       "6              2.0           9408.0       1129.0            1976.0   \n",
       "7              4.0            784.0         94.0             227.0   \n",
       "8              1.0           4059.0        487.0            1096.0   \n",
       "9              5.0          14076.0       1689.0            3237.0   \n",
       "\n",
       "   total_revenue  loss_given_default  Net_Profit_Before_Opti  \\\n",
       "0         5962.0               526.0                  5436.0   \n",
       "1         2708.0                69.0                  2639.0   \n",
       "2          613.0                53.0                   560.0   \n",
       "3         2282.0               346.0                  1936.0   \n",
       "4         2695.0               154.0                  2541.0   \n",
       "5         3670.0               290.0                  3380.0   \n",
       "6         3105.0               188.0                  2917.0   \n",
       "7          321.0                31.0                   290.0   \n",
       "8         1583.0                41.0                  1542.0   \n",
       "9         4926.0               704.0                  4222.0   \n",
       "\n",
       "   min_credit_limit  max_credit_limit  \n",
       "0           24700.0           25000.0  \n",
       "1           22400.0           25000.0  \n",
       "2            7300.0            8760.0  \n",
       "3            7600.0            9120.0  \n",
       "4           14000.0           16800.0  \n",
       "5           13600.0           16320.0  \n",
       "6           16800.0           20160.0  \n",
       "7            5600.0            6720.0  \n",
       "8           12300.0           14760.0  \n",
       "9           20400.0           24480.0  "
      ]
     },
     "execution_count": 311,
     "metadata": {},
     "output_type": "execute_result"
    }
   ],
   "source": [
    "df"
   ]
  },
  {
   "cell_type": "code",
   "execution_count": 312,
   "id": "bc9ae727-67c6-4a08-81b5-2ce4ce7e9540",
   "metadata": {},
   "outputs": [
    {
     "data": {
      "text/plain": [
       "array([[<AxesSubplot:title={'center':'account_id'}>,\n",
       "        <AxesSubplot:title={'center':'credit_limit'}>,\n",
       "        <AxesSubplot:title={'center':'spend_percent'}>],\n",
       "       [<AxesSubplot:title={'center':'interest_rate_pct'}>,\n",
       "        <AxesSubplot:title={'center':'prob_of_default'}>,\n",
       "        <AxesSubplot:title={'center':'revolving_spend'}>],\n",
       "       [<AxesSubplot:title={'center':'fee_revenue'}>,\n",
       "        <AxesSubplot:title={'center':'interest_revenue'}>,\n",
       "        <AxesSubplot:title={'center':'total_revenue'}>],\n",
       "       [<AxesSubplot:title={'center':'loss_given_default'}>,\n",
       "        <AxesSubplot:title={'center':'Net_Profit_Before_Opti'}>,\n",
       "        <AxesSubplot:title={'center':'min_credit_limit'}>],\n",
       "       [<AxesSubplot:title={'center':'max_credit_limit'}>,\n",
       "        <AxesSubplot:>, <AxesSubplot:>],\n",
       "       [<AxesSubplot:>, <AxesSubplot:>, <AxesSubplot:>],\n",
       "       [<AxesSubplot:>, <AxesSubplot:>, <AxesSubplot:>],\n",
       "       [<AxesSubplot:>, <AxesSubplot:>, <AxesSubplot:>],\n",
       "       [<AxesSubplot:>, <AxesSubplot:>, <AxesSubplot:>]], dtype=object)"
      ]
     },
     "execution_count": 312,
     "metadata": {},
     "output_type": "execute_result"
    },
    {
     "data": {
      "image/png": "[encoded data removed]",
      "text/plain": [
       "<Figure size 1080x2160 with 27 Axes>"
      ]
     },
     "metadata": {
      "needs_background": "light"
     },
     "output_type": "display_data"
    }
   ],
   "source": [
    "df.hist(figsize=(15,30),layout=(9,3))"
   ]
  },
  {
   "cell_type": "code",
   "execution_count": 313,
   "id": "c6a410a8-76de-4e0f-8844-7410a4350a2a",
   "metadata": {},
   "outputs": [],
   "source": [
    "#using pulp from here to optimize\n",
    "#Defining Linear Programming Problem\n",
    "model = LpProblem('Credit_Card_Portfolio_Optimization', LpMaximize )"
   ]
  },
  {
   "cell_type": "code",
   "execution_count": 314,
   "id": "ff7d3a99-d875-460b-9a5e-d7e816ffda61",
   "metadata": {},
   "outputs": [],
   "source": [
    "lower_bound = []\n",
    "for rownum, row in df.iterrows():\n",
    "    lb = row['min_credit_limit'] \n",
    "    #lb_val =  (str(lb)) \n",
    "    lower_bound.append(lb)  "
   ]
  },
  {
   "cell_type": "code",
   "execution_count": 315,
   "id": "0f1ce7c7-2f4e-42b7-8d28-d3c75bf68e52",
   "metadata": {},
   "outputs": [],
   "source": [
    "number_of_var = len(lower_bound) "
   ]
  },
  {
   "cell_type": "code",
   "execution_count": 316,
   "id": "c0cdb420-ae57-4a0d-be30-40515123e563",
   "metadata": {},
   "outputs": [],
   "source": [
    "upper_bound = []\n",
    "for rownum, row in df.iterrows():\n",
    "    ub = row['max_credit_limit'] \n",
    "    upper_bound.append(ub)  "
   ]
  },
  {
   "cell_type": "code",
   "execution_count": 317,
   "id": "578dea56-2394-4f55-b30f-3c12e78de23f",
   "metadata": {},
   "outputs": [],
   "source": [
    "decision_variables = [LpVariable(f\"x{i}\", lowBound=lower_bound[i], upBound=upper_bound[i], cat=LpInteger) for i in range(number_of_var)]"
   ]
  },
  {
   "cell_type": "code",
   "execution_count": 328,
   "id": "38688be0-605f-42bd-a31a-edca8027abb6",
   "metadata": {},
   "outputs": [
    {
     "name": "stdout",
     "output_type": "stream",
     "text": [
      "Objective function (net_profit_total): 0.22009999999999993*x0 + 0.1178*x1 + 0.07679999999999998*x2 + 0.25479999999999997*x3 + 0.1815*x4 + 0.24849999999999997*x5 + 0.17359999999999998*x6 + 0.051800000000000006*x7 + 0.1254*x8 + 0.207*x9\n"
     ]
    },
    {
     "name": "stderr",
     "output_type": "stream",
     "text": [
      "C:\\Users\\skuma\\Anaconda3\\lib\\site-packages\\pulp\\pulp.py:1704: UserWarning: Overwriting previously set objective.\n",
      "  warnings.warn(\"Overwriting previously set objective.\")\n"
     ]
    }
   ],
   "source": [
    "# creating optimization function\n",
    "# here we are optimizing net gains ( Revenue - loss when default )\n",
    "\n",
    "net_profit_total = \"\"\n",
    "for rownum, row in df.iterrows():\n",
    "    for i, dv in enumerate(decision_variables):\n",
    "        if rownum == i:\n",
    "            net_profit_total += dv * ( row['spend_percent'] / 100 ) * ( \n",
    "                              (0.01) * 12  # Annual Fee Revenue as a percent of spend value\n",
    "                           +  (row['interest_rate_pct'] /( 100  ))  # Annual Interest Revenue\n",
    "                           -  (row['prob_of_default'] / 100)  # Loss Given Default\n",
    "                           )   \n",
    "                    \n",
    "model += net_profit_total\n",
    "print ( \"Objective function (net_profit_total): \"+ str(net_profit_total))"
   ]
  },
  {
   "cell_type": "code",
   "execution_count": 329,
   "id": "0468d99a-45fe-40d2-a27e-886c509bcdb2",
   "metadata": {},
   "outputs": [
    {
     "name": "stdout",
     "output_type": "stream",
     "text": [
      "Credit_Card_Portfolio_Optimization:\n",
      "MAXIMIZE\n",
      "0.22009999999999993*x0 + 0.1178*x1 + 0.07679999999999998*x2 + 0.25479999999999997*x3 + 0.1815*x4 + 0.24849999999999997*x5 + 0.17359999999999998*x6 + 0.051800000000000006*x7 + 0.1254*x8 + 0.207*x9 + 0.0\n",
      "VARIABLES\n",
      "24700 <= x0 <= 25000 Integer\n",
      "22400 <= x1 <= 25000 Integer\n",
      "7300 <= x2 <= 8760 Integer\n",
      "7600 <= x3 <= 9120 Integer\n",
      "14000 <= x4 <= 16800 Integer\n",
      "13600 <= x5 <= 16320 Integer\n",
      "16800 <= x6 <= 20160 Integer\n",
      "5600 <= x7 <= 6720 Integer\n",
      "12300 <= x8 <= 14760 Integer\n",
      "20400 <= x9 <= 24480 Integer\n",
      "\n"
     ]
    },
    {
     "data": {
      "text/plain": [
       "[x0, x1, x2, x3, x4, x5, x6, x7, x8, x9]"
      ]
     },
     "execution_count": 329,
     "metadata": {},
     "output_type": "execute_result"
    }
   ],
   "source": [
    "# Display problems\n",
    "print (model)\n",
    "model.writeLP(\"Credit_Card_Portfolio_Optimization.lp\" )"
   ]
  },
  {
   "cell_type": "code",
   "execution_count": 330,
   "id": "26fa0ff6-ea58-4858-92af-ef412772d9b5",
   "metadata": {},
   "outputs": [
    {
     "name": "stdout",
     "output_type": "stream",
     "text": [
      "Status: Optimal\n",
      "Net_Profit_Before_Optimization: $ 25463.0\n",
      "Optimal Solution to the problem: $ 29314.9\n",
      "net_profit_total_before_vs_after_optimization: $ 3852\n",
      "Individual decision_variables ( suggested Credit Limits After Optimization:) \n",
      "x0 = 25000.0\n",
      "x1 = 25000.0\n",
      "x2 = 8760.0\n",
      "x3 = 9120.0\n",
      "x4 = 16800.0\n",
      "x5 = 16320.0\n",
      "x6 = 20160.0\n",
      "x7 = 6720.0\n",
      "x8 = 14760.0\n",
      "x9 = 24480.0\n"
     ]
    }
   ],
   "source": [
    "#now run optimization\n",
    "optimization_result = model.solve()\n",
    "assert optimization_result == LpStatusOptimal\n",
    "print(\"Status:\", LpStatus[model.status])\n",
    "Total = df[\"Net_Profit_Before_Opti\"].sum()\n",
    "print (\"Net_Profit_Before_Optimization: $\",round (Total , 2))\n",
    "print(\"Optimal Solution to the problem: $\", round (value(model.objective), 2))\n",
    "net_profit_total_before_vs_after_optimization = round (value(model.objective) - Total)\n",
    "print(\"net_profit_total_before_vs_after_optimization: $\", round (net_profit_total_before_vs_after_optimization,2))\n",
    "print (\"Individual decision_variables ( suggested Credit Limits After Optimization:) \")\n",
    "for v in model.variables():\n",
    "    print(v.name, \"=\", v.varValue)"
   ]
  },
  {
   "cell_type": "code",
   "execution_count": null,
   "id": "8296ab11-c1c3-4561-bc89-ec5f08b6ca2b",
   "metadata": {},
   "outputs": [],
   "source": []
  }
 ],
 "metadata": {
  "kernelspec": {
   "display_name": "Python 3 (ipykernel)",
   "language": "python",
   "name": "python3"
  },
  "language_info": {
   "codemirror_mode": {
    "name": "ipython",
    "version": 3
   },
   "file_extension": ".py",
   "mimetype": "text/x-python",
   "name": "python",
   "nbconvert_exporter": "python",
   "pygments_lexer": "ipython3",
   "version": "3.8.8"
  }
 },
 "nbformat": 4,
 "nbformat_minor": 5
}
